{
 "cells": [
  {
   "cell_type": "markdown",
   "id": "197abc17-22df-4414-929f-72223ff31430",
   "metadata": {
    "tags": []
   },
   "source": [
    "# Introduction to pySAS changes\n",
    "\n",
    "***\n",
    "\n",
    "## Configure pySAS Defaults\n",
    "\n",
    "This notebook will detail the changes made to pySAS to streamline user interaction.\n",
    "\n",
    "Before using these changes the user will have to set the default configuration by running the script:\n",
    "\n",
    "`setuppysas.py`\n",
    "\n",
    "This script is located in the pysas directory (NOTE: This script will not work/is not necessary on SciServer). The script will have the user set defaults for `sas_dir`, `sas_ccfpath`, and `data_dir`. These defaults will be stored in a configuration file located in `~/.config/sas/sas.cfg`. This file can be edited in any text editor or the values can be changed using functions provided in `configutils.py`. For example,\n",
    "\n",
    "```python\n",
    "from pysas.configutils import set_sas_config_default\n",
    "data_path = '/path/to/data/dir/'\n",
    "set_sas_config_default('data_dir', data_path)\n",
    "```\n",
    "\n",
    "At any time the user can clear all previous values with,\n",
    "\n",
    "```python\n",
    "from pysas.configutils import clear_sas_defaults\n",
    "clear_sas_defaults()\n",
    "```\n",
    "\n",
    "## Import pySAS\n",
    "\n",
    "With the defaults set, SAS will automatically be initialized when pySAS is imported:\n",
    "\n",
    "```python\n",
    "import pysas\n",
    "```\n",
    "\n",
    "## The “odf” Object\n",
    "\n",
    "Included with pySAS is a Class called the `ODFobject`. This provides a method for downloading a set of observation data files (`ODF`) for a single observation ID (`ObsID`). It can also run `cifbuild`, `odfingest`, `epproc`, and `emproc`. All of this can be done using a single command `basic_setup`. For example,\n",
    "\n",
    "```python\n",
    "import pysas\n",
    "ObsID = '0802710101'\n",
    "odf = pysas.odfcontrol.ODFobject(ObsID)\n",
    "odf.basic_setup()\n",
    "```\n",
    "\n",
    "That’s it! After that runs you will now have data files ready to work with!\n",
    "\n",
    "The data will be stored in the `data_dir` directory you set when running `setuppysas.py`. A subdirectory will be created for each `ObsID`. Inside that subdirectory will be directories for `ODF` files, `work`, and `PPS` files if applicable.\n",
    "\n",
    "```bash\n",
    "├── data_dir\n",
    "│   ├── 0802710101\n",
    "│   │   ├── ODF\n",
    "│   │   |   ├── '.FIT' files\n",
    "│   │   |   ├── '.ASC' files\n",
    "│   │   |   ├── 'MANIFEST.*'\n",
    "│   │   ├── work\n",
    "│   │   |   ├── 'ccf.cif'\n",
    "│   │   |   ├── '*SUM.SAS'\n",
    "│   │   |   ├── '*ImagingEvts.ds' files\n",
    "│   ├── 0903540101\n",
    "│   │   ├── ODF\n",
    "│   │   |   ├── '.FIT' files\n",
    "│   │   |   ├── '.ASC' files\n",
    "│   │   |   ├── 'MANIFEST.*'\n",
    "│   │   ├── work\n",
    "│   │   |   ├── 'ccf.cif'\n",
    "│   │   |   ├── '*SUM.SAS'\n",
    "│   │   |   ├── '*ImagingEvts.ds' files\n",
    ".\n",
    ".\n",
    ".\n",
    "```"
   ]
  },
  {
   "cell_type": "markdown",
   "id": "df171f05-d3a5-4b54-9f84-7168ec73e39c",
   "metadata": {},
   "source": [
    "import pysas\n",
    "ObsID = '0802710101'\n",
    "odf = pysas.odfcontrol.ODFobject(ObsID)\n",
    "odf.basic_setup()"
   ]
  },
  {
   "cell_type": "markdown",
   "id": "376f6082-5041-46cd-bad6-590a03063448",
   "metadata": {},
   "source": [
    "## After 'basic_setup'\n",
    "\n",
    "After running 'basic_setup', your `ODFobject` will have a few useful values. It will have a dictionary containing lists of all event list files."
   ]
  },
  {
   "cell_type": "code",
   "execution_count": null,
   "id": "d531b119-3038-4bd0-9338-6a42b45cb75d",
   "metadata": {},
   "outputs": [],
   "source": [
    "print(odf.files)"
   ]
  },
  {
   "cell_type": "code",
   "execution_count": null,
   "id": "5343c34c-182d-44cb-98af-48fb960c8384",
   "metadata": {},
   "outputs": [],
   "source": [
    "print(odf.files['pnevt_list'])"
   ]
  },
  {
   "cell_type": "code",
   "execution_count": null,
   "id": "e43216e5-5433-4afc-be42-66901e7d4754",
   "metadata": {},
   "outputs": [],
   "source": [
    "print(odf.files['m1evt_list'])"
   ]
  },
  {
   "cell_type": "code",
   "execution_count": null,
   "id": "b27e9b0d-f50f-4e1c-be3b-569051ee7435",
   "metadata": {},
   "outputs": [],
   "source": [
    "print(odf.files['m2evt_list'])"
   ]
  }
 ],
 "metadata": {
  "kernelspec": {
   "display_name": "Python 3 (ipykernel)",
   "language": "python",
   "name": "python3"
  },
  "language_info": {
   "codemirror_mode": {
    "name": "ipython",
    "version": 3
   },
   "file_extension": ".py",
   "mimetype": "text/x-python",
   "name": "python",
   "nbconvert_exporter": "python",
   "pygments_lexer": "ipython3",
   "version": "3.9.16"
  }
 },
 "nbformat": 4,
 "nbformat_minor": 5
}
